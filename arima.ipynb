{
 "cells": [
  {
   "cell_type": "code",
   "execution_count": null,
   "metadata": {},
   "outputs": [],
   "source": [
    "import pandas as pd\n",
    "import numpy as np\n",
    "import matplotlib.pyplot as plt\n",
    "import time\n",
    "from statsmodels.tsa.arima.model import ARIMA"
   ]
  },
  {
   "cell_type": "code",
   "execution_count": null,
   "metadata": {},
   "outputs": [],
   "source": [
    "def smape(predictions, actual):\n",
    "    difference = np.abs(predictions-actual)\n",
    "    summation = np.abs(actual)+np.abs(predictions)\n",
    "    error = np.mean(difference/summation)\n",
    "    return error"
   ]
  },
  {
   "cell_type": "markdown",
   "metadata": {},
   "source": [
    "First we will do some simple tuning of ARIMA model."
   ]
  },
  {
   "cell_type": "code",
   "execution_count": null,
   "metadata": {},
   "outputs": [],
   "source": [
    "list_of_names = [\"linear1_abrupt\", \"linear2_abrupt\", \"linear3_abrupt\",\n",
    "                \"nonlinear1_abrupt\", \"nonlinear2_abrupt\", \"nonlinear3_abrupt\"]"
   ]
  },
  {
   "cell_type": "code",
   "execution_count": null,
   "metadata": {},
   "outputs": [],
   "source": [
    "for iteration in range(0,6):\n",
    "    smape_dict = {}\n",
    "    for name in list_of_names:\n",
    "        data = pd.read_csv(\"data/\"+name, usecols = [iteration]).iloc[:,0].to_list()\n",
    "\n",
    "        # split data into train and test\n",
    "        split = int(len(data) * 0.7)\n",
    "        train, test = data[:split], data[split:]\n",
    "        history = [x for x in train]\n",
    "\n",
    "        # make predictions\n",
    "        predictions = []\n",
    "        start = time.perf_counter()\n",
    "        for t in range(len(test)):\n",
    "            model = ARIMA(history, order=(5,1,0))\n",
    "            model_fit = model.fit()\n",
    "            yhat = model_fit.forecast()[0]\n",
    "            predictions.append(yhat)\n",
    "            history.append(test[t])\n",
    "        # calculate out of sample error\n",
    "        error = smape(np.asarray(predictions), np.asarray(test))\n",
    "        smape_dict[name] = error\n",
    "        end = time.perf_counter()\n",
    "#         show plots only first time\n",
    "#         plt.plot(test, label = \"expected\", color = \"black\")\n",
    "#         plt.plot(predictions, label = \"predicted\", color = \"red\")\n",
    "#         plt.title(name)\n",
    "#         plt.legend()    \n",
    "\n",
    "#         #saving the plots\n",
    "#         image_path = \"forecasting_results/arima/\"+name+\".png\"\n",
    "#         plt.savefig(image_path)\n",
    "\n",
    "#         plt.show()\n",
    "\n",
    "    #saving the dictionary containing errors\n",
    "    dict_path = \"forecasting_results/arima/errors/error\"+str(iteration)+\".txt\"\n",
    "    with open(dict_path, 'w') as file:\n",
    "        for key in smape_dict.keys():\n",
    "            file.write(\"%s,%s\\n\"%(key,smape_dict[key]))"
   ]
  },
  {
   "cell_type": "code",
   "execution_count": null,
   "metadata": {},
   "outputs": [],
   "source": []
  }
 ],
 "metadata": {
  "kernelspec": {
   "display_name": "Python 3",
   "language": "python",
   "name": "python3"
  },
  "language_info": {
   "codemirror_mode": {
    "name": "ipython",
    "version": 3
   },
   "file_extension": ".py",
   "mimetype": "text/x-python",
   "name": "python",
   "nbconvert_exporter": "python",
   "pygments_lexer": "ipython3",
   "version": "3.7.9"
  }
 },
 "nbformat": 4,
 "nbformat_minor": 4
}
