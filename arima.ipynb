{
 "cells": [
  {
   "cell_type": "code",
   "execution_count": 5,
   "metadata": {},
   "outputs": [],
   "source": [
    "import pandas as pd\n",
    "import numpy as np\n",
    "import matplotlib.pyplot as plt\n",
    "import time\n",
    "from statsmodels.tsa.arima.model import ARIMA"
   ]
  },
  {
   "cell_type": "code",
   "execution_count": 6,
   "metadata": {},
   "outputs": [],
   "source": [
    "def smape(predictions, actual):\n",
    "    difference = np.abs(predictions-actual)\n",
    "    summation = np.abs(actual)+np.abs(predictions)\n",
    "    error = np.mean(difference/summation)\n",
    "    return error"
   ]
  },
  {
   "cell_type": "markdown",
   "metadata": {},
   "source": [
    "First we will do some simple tuning of ARIMA model."
   ]
  },
  {
   "cell_type": "code",
   "execution_count": 7,
   "metadata": {},
   "outputs": [],
   "source": [
    "list_of_names = [\"linear1_abrupt\", \"linear2_abrupt\", \"linear3_abrupt\",\n",
    "                \"nonlinear1_abrupt\", \"nonlinear2_abrupt\", \"nonlinear3_abrupt\"]\n",
    "#dictionary to store smape for every dataset\n",
    "smape_dict = {}"
   ]
  },
  {
   "cell_type": "code",
   "execution_count": 11,
   "metadata": {},
   "outputs": [
    {
     "name": "stdout",
     "output_type": "stream",
     "text": [
      "SMAPE: 0.0641\n",
      "Time wasted: 0.49m\n",
      "SMAPE: 0.0240\n",
      "Time wasted: 0.57m\n",
      "SMAPE: 0.1044\n",
      "Time wasted: 0.43m\n",
      "SMAPE: 0.6387\n",
      "Time wasted: 0.46m\n",
      "SMAPE: 0.0203\n",
      "Time wasted: 0.52m\n",
      "SMAPE: 0.3093\n",
      "Time wasted: 0.41m\n",
      "SMAPE: 0.1418\n",
      "Time wasted: 0.47m\n",
      "SMAPE: 0.0188\n",
      "Time wasted: 0.42m\n",
      "SMAPE: 0.1604\n",
      "Time wasted: 0.35m\n",
      "SMAPE: 0.6930\n",
      "Time wasted: 0.48m\n",
      "SMAPE: 0.0320\n",
      "Time wasted: 0.40m\n",
      "SMAPE: 0.3197\n",
      "Time wasted: 0.46m\n",
      "SMAPE: 0.0201\n",
      "Time wasted: 0.52m\n",
      "SMAPE: 0.0348\n",
      "Time wasted: 0.48m\n",
      "SMAPE: 0.1831\n",
      "Time wasted: 0.42m\n",
      "SMAPE: 0.6411\n",
      "Time wasted: 0.49m\n",
      "SMAPE: 0.0581\n",
      "Time wasted: 0.55m\n",
      "SMAPE: 0.2801\n",
      "Time wasted: 0.40m\n",
      "SMAPE: 0.0380\n",
      "Time wasted: 0.56m\n",
      "SMAPE: 0.0136\n",
      "Time wasted: 0.53m\n",
      "SMAPE: 0.1431\n",
      "Time wasted: 0.47m\n",
      "SMAPE: 0.5874\n",
      "Time wasted: 0.58m\n",
      "SMAPE: 0.3345\n",
      "Time wasted: 0.51m\n",
      "SMAPE: 0.3257\n",
      "Time wasted: 0.48m\n"
     ]
    }
   ],
   "source": [
    "for iteration in range(1, 5):    \n",
    "    for name in list_of_names:\n",
    "        data = pd.read_csv(\"data/\"+name, usecols = [iteration]).iloc[:,0].to_list()\n",
    "\n",
    "        # split data into train and test\n",
    "        split = int(len(data) * 0.7)\n",
    "        train, test = data[:split], data[split:]\n",
    "        history = [x for x in train]\n",
    "\n",
    "        # make predictions\n",
    "        predictions = []\n",
    "        start = time.perf_counter()\n",
    "        for t in range(len(test)):\n",
    "            model = ARIMA(history, order=(5,1,0))\n",
    "            model_fit = model.fit()\n",
    "            yhat = model_fit.forecast()[0]\n",
    "            predictions.append(yhat)\n",
    "            history.append(test[t])\n",
    "        # calculate out of sample error\n",
    "        error = smape(np.asarray(predictions), np.asarray(test))\n",
    "        print(\"SMAPE: {:.4f}\".format(error))\n",
    "        end = time.perf_counter()\n",
    "        print(\"Time wasted: {:.2f}m\".format((end-start)/60))\n",
    "\n",
    "#         plt.plot(test, label = \"expected\", color = \"black\")\n",
    "#         plt.plot(predictions, label = \"predicted\", color = \"red\")\n",
    "#         plt.title(name)\n",
    "#         plt.legend()    \n",
    "\n",
    "#         #saving the plots\n",
    "#         image_path = \"forecasting_results/arima/\"+name+\".png\"\n",
    "#         plt.savefig(image_path)\n",
    "\n",
    "#         plt.show()\n",
    "\n",
    "    #saving the dictionary containing errors\n",
    "    dict_path = \"forecasting_results/arima/error\"+str(iteration)+\".txt\"\n",
    "    with open(dict_path, 'w') as file:\n",
    "        for key in smape_dict.keys():\n",
    "            file.write(\"%s,%s\\n\"%(key,smape_dict[key]))"
   ]
  },
  {
   "cell_type": "code",
   "execution_count": null,
   "metadata": {},
   "outputs": [],
   "source": []
  }
 ],
 "metadata": {
  "kernelspec": {
   "display_name": "Python 3",
   "language": "python",
   "name": "python3"
  },
  "language_info": {
   "codemirror_mode": {
    "name": "ipython",
    "version": 3
   },
   "file_extension": ".py",
   "mimetype": "text/x-python",
   "name": "python",
   "nbconvert_exporter": "python",
   "pygments_lexer": "ipython3",
   "version": "3.8.5"
  }
 },
 "nbformat": 4,
 "nbformat_minor": 4
}
