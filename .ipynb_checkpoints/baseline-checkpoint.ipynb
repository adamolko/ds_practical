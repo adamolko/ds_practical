{
 "cells": [
  {
   "cell_type": "markdown",
   "metadata": {},
   "source": [
    "*Baseline model*: predict the last value."
   ]
  },
  {
   "cell_type": "code",
   "execution_count": null,
   "metadata": {},
   "outputs": [],
   "source": [
    "import numpy as np\n",
    "import pandas as pd\n",
    "import matplotlib.pyplot as plt\n",
    "import csv"
   ]
  },
  {
   "cell_type": "code",
   "execution_count": null,
   "metadata": {},
   "outputs": [],
   "source": [
    "def smape(predictions, actual):\n",
    "    difference = np.abs(predictions-actual)\n",
    "    summation = np.abs(actual)+np.abs(predictions)\n",
    "    error = np.mean(2*difference/summation)\n",
    "    return error"
   ]
  },
  {
   "cell_type": "code",
   "execution_count": null,
   "metadata": {},
   "outputs": [],
   "source": [
    "def baseline_predict(train, test):\n",
    "    train_array = np.asarray(train.tail(1)[\"t\"])\n",
    "    test_array = np.asarray(test.iloc[:-1, 0])\n",
    "    \n",
    "    predictions = np.concatenate([train_array, test_array])\n",
    "\n",
    "    return predictions"
   ]
  },
  {
   "cell_type": "code",
   "execution_count": null,
   "metadata": {},
   "outputs": [],
   "source": [
    "list_of_names = [\"linear1_abrupt\", \"linear2_abrupt\", \"linear3_abrupt\",\n",
    "                \"nonlinear1_abrupt\", \"nonlinear2_abrupt\", \"nonlinear3_abrupt\"]\n",
    "#dictionary to store smape for every dataset\n",
    "smape_dict = {}"
   ]
  },
  {
   "cell_type": "code",
   "execution_count": null,
   "metadata": {},
   "outputs": [],
   "source": [
    "for name in list_of_names:\n",
    "    data = pd.read_csv(\"data/\"+name, usecols = [0]).iloc[:,0].to_list()\n",
    "    \n",
    "    split = int(0.7*len(data))\n",
    "    train, test = data.loc[:split, :], data.loc[split:, :]\n",
    "    ground_truth = data.loc[int(0.7*len(data)):, \"t\"].reset_index(drop = True)\n",
    "    \n",
    "    predictions = baseline_predict(train, test)\n",
    "    \n",
    "\n",
    "    error = smape(predictions, ground_truth.values.reshape([-1,1]))\n",
    "    smape_dict[name] = error\n",
    "    print(\"SMAPE: {:.4f}\".format(error))\n",
    "    \n",
    "    plt.plot(ground_truth, label = \"expected\", color = \"black\")\n",
    "    plt.plot(predictions, label = \"predicted\", color = \"red\")\n",
    "    plt.title(name)\n",
    "    plt.legend()    \n",
    "    \n",
    "    #saving the plots\n",
    "    image_path = \"forecasting_results/baseline/\"+name+\".png\"\n",
    "    plt.savefig(image_path)\n",
    "    \n",
    "    plt.show()\n",
    "    \n",
    "#saving the dictionary containing errors\n",
    "dict_path = \"forecasting_results/baseline/error.txt\"\n",
    "with open(dict_path, 'w') as file:\n",
    "    for key in smape_dict.keys():\n",
    "        file.write(\"%s,%s\\n\"%(key,smape_dict[key]))"
   ]
  },
  {
   "cell_type": "code",
   "execution_count": null,
   "metadata": {},
   "outputs": [],
   "source": []
  }
 ],
 "metadata": {
  "kernelspec": {
   "display_name": "Python 3",
   "language": "python",
   "name": "python3"
  },
  "language_info": {
   "codemirror_mode": {
    "name": "ipython",
    "version": 3
   },
   "file_extension": ".py",
   "mimetype": "text/x-python",
   "name": "python",
   "nbconvert_exporter": "python",
   "pygments_lexer": "ipython3",
   "version": "3.7.9"
  }
 },
 "nbformat": 4,
 "nbformat_minor": 4
}
