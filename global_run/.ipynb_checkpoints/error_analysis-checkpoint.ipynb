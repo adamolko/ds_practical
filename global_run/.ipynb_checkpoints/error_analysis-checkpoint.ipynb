{
 "cells": [
  {
   "cell_type": "code",
   "execution_count": 2,
   "metadata": {},
   "outputs": [],
   "source": [
    "import numpy as np\n",
    "import pandas as pd\n",
    "import csv\n",
    "import os\n",
    "import re"
   ]
  },
  {
   "cell_type": "code",
   "execution_count": 3,
   "metadata": {},
   "outputs": [],
   "source": [
    "list_of_names = [\"linear1_abrupt\", \"linear2_abrupt\", \"linear3_abrupt\", \n",
    "                 \"nonlinear1_abrupt\", \"nonlinear2_abrupt\", \"nonlinear3_abrupt\"]\n",
    "list_of_algorithms = [\"baseline\", \"xgboost/retrain\", \"xgboost/redefine\", \"xgboost/discard\",\n",
    "                     \"lstm/oneshot\", \"lstm/discard\", \"cond_rnn\"]"
   ]
  },
  {
   "cell_type": "code",
   "execution_count": 15,
   "metadata": {},
   "outputs": [
    {
     "name": "stdout",
     "output_type": "stream",
     "text": [
      "baseline\n",
      "{'linear1_abrupt': 0.29, 'linear2_abrupt': 0.27, 'linear3_abrupt': 0.55, 'nonlinear1_abrupt': 0.72, 'nonlinear2_abrupt': 0.29, 'nonlinear3_abrupt': 0.56}\n",
      "xgboost/retrain\n",
      "{'linear1_abrupt': 0.09, 'linear2_abrupt': 0.04, 'linear3_abrupt': 0.15, 'nonlinear1_abrupt': 0.69, 'nonlinear2_abrupt': 0.11, 'nonlinear3_abrupt': 0.3}\n",
      "xgboost/redefine\n",
      "{'linear1_abrupt': 0.08, 'linear2_abrupt': 0.05, 'linear3_abrupt': 0.16, 'nonlinear1_abrupt': 0.67, 'nonlinear2_abrupt': 0.12, 'nonlinear3_abrupt': 0.29}\n",
      "xgboost/discard\n",
      "{'linear1_abrupt': 0.08, 'linear2_abrupt': 0.05, 'linear3_abrupt': 0.16, 'nonlinear1_abrupt': 0.69, 'nonlinear2_abrupt': 0.13, 'nonlinear3_abrupt': 0.29}\n",
      "lstm/oneshot\n",
      "{'linear1_abrupt': 0.43, 'linear2_abrupt': 0.3, 'linear3_abrupt': 0.61, 'nonlinear1_abrupt': 0.75, 'nonlinear2_abrupt': 0.37, 'nonlinear3_abrupt': 0.55}\n",
      "lstm/discard\n",
      "{'linear1_abrupt': 0.47, 'linear2_abrupt': 0.45, 'linear3_abrupt': 0.6, 'nonlinear1_abrupt': 0.72, 'nonlinear2_abrupt': 0.43, 'nonlinear3_abrupt': 0.55}\n",
      "cond_rnn\n",
      "{'linear1_abrupt': 0.4, 'linear2_abrupt': 0.31, 'linear3_abrupt': 0.61, 'nonlinear1_abrupt': 0.77, 'nonlinear2_abrupt': 0.3, 'nonlinear3_abrupt': 0.54}\n"
     ]
    }
   ],
   "source": [
    "# for every algorithms\n",
    "for algorithm in list_of_algorithms:\n",
    "    print(algorithm)\n",
    "    # create dictionary to keep track of the errors for particular algorithm\n",
    "    errors = {}\n",
    "    # for every type of time series\n",
    "    for name in list_of_names:\n",
    "        # keep track of how many iterations for one type were done\n",
    "        count = 0\n",
    "        total_error = 0\n",
    "        # extract the errors for particular time series\n",
    "        r1 = re.compile('error[0-9]'+name+'.txt')\n",
    "        # cd into necessary folder\n",
    "        for root, dirs, files in os.walk(\"results/\"+algorithm+\"/errors\"):\n",
    "            for file in files:\n",
    "                if r1.match(file):\n",
    "                    # read all the files related to particular type of time series\n",
    "                    with open(os.path.join(root, file), 'r') as f:\n",
    "                        text = f.read()\n",
    "                        # add to total error\n",
    "                        total_error += float(text.split(\",\")[1])\n",
    "                        # increase the iteration counter\n",
    "                        count+= 1\n",
    "        errors[name] = round(total_error/count,4)\n",
    "    print(errors)\n",
    "    #for every algorithm, save the mean errors\n",
    "    dict_path = \"results/global_errors.txt\"\n",
    "    with open(dict_path, 'a') as file:\n",
    "        name = algorithm.split(\"/\")\n",
    "        file.write(\"{} & \".format(name[0]))\n",
    "        try:\n",
    "            if name[1]!=None:\n",
    "                file.write(name[1])\n",
    "        except:\n",
    "            pass\n",
    "        for key in errors.keys():\n",
    "            file.write(\" & {}\".format(errors[key]))\n",
    "        file.write(\"\\n\")"
   ]
  },
  {
   "cell_type": "code",
   "execution_count": 5,
   "metadata": {},
   "outputs": [
    {
     "data": {
      "text/plain": [
       "{'linear1_abrupt': 0.4043020984834606,\n",
       " 'linear2_abrupt': 0.3093855551987481,\n",
       " 'linear3_abrupt': 0.609645944529866,\n",
       " 'nonlinear1_abrupt': 0.7688133839371236,\n",
       " 'nonlinear2_abrupt': 0.30317616454206475,\n",
       " 'nonlinear3_abrupt': 0.541613555486716}"
      ]
     },
     "execution_count": 5,
     "metadata": {},
     "output_type": "execute_result"
    }
   ],
   "source": [
    "errors"
   ]
  },
  {
   "cell_type": "code",
   "execution_count": null,
   "metadata": {},
   "outputs": [],
   "source": []
  }
 ],
 "metadata": {
  "kernelspec": {
   "display_name": "Python 3",
   "language": "python",
   "name": "python3"
  },
  "language_info": {
   "codemirror_mode": {
    "name": "ipython",
    "version": 3
   },
   "file_extension": ".py",
   "mimetype": "text/x-python",
   "name": "python",
   "nbconvert_exporter": "python",
   "pygments_lexer": "ipython3",
   "version": "3.8.5"
  }
 },
 "nbformat": 4,
 "nbformat_minor": 4
}
