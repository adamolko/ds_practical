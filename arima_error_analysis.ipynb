{
 "cells": [
  {
   "cell_type": "code",
   "execution_count": null,
   "metadata": {},
   "outputs": [],
   "source": [
    "import numpy as np\n",
    "import pandas as pd\n",
    "import csv\n",
    "import os\n",
    "import re"
   ]
  },
  {
   "cell_type": "code",
   "execution_count": null,
   "metadata": {},
   "outputs": [],
   "source": [
    "list_of_names = [\"linear1_abrupt\", \"linear2_abrupt\", \"linear3_abrupt\", \n",
    "                 \"nonlinear1_abrupt\", \"nonlinear2_abrupt\", \"nonlinear3_abrupt\"]"
   ]
  },
  {
   "cell_type": "code",
   "execution_count": null,
   "metadata": {},
   "outputs": [],
   "source": [
    "global_errors = {}\n",
    "# initialize error dictionary\n",
    "for name in list_of_names:\n",
    "    global_errors[name] = []\n",
    "    \n",
    "for i in range(0,6):\n",
    "    file_path = \"forecasting_results/arima/errors/error\"+str(i)+\".txt\"\n",
    "    # read all the files related to particular type of time series\n",
    "    with open(file_path, 'r') as f:\n",
    "        for line in f.readlines():\n",
    "            result = line.split(\",\")\n",
    "            global_errors[result[0]].append(float(result[1].strip(\"\\n\")))\n",
    "\n",
    "#for every algorithm, save the mean errors\n",
    "dict_path = \"forecasting_results/arima/errors/mean_errors.txt\"\n",
    "with open(dict_path, 'w') as file:\n",
    "    for key in global_errors.keys():\n",
    "        error = round(sum(global_errors[key])/6,4)\n",
    "        file.write(\"{},{}\\n\".format(key, error))"
   ]
  },
  {
   "cell_type": "code",
   "execution_count": null,
   "metadata": {},
   "outputs": [],
   "source": []
  }
 ],
 "metadata": {
  "kernelspec": {
   "display_name": "Python 3",
   "language": "python",
   "name": "python3"
  },
  "language_info": {
   "codemirror_mode": {
    "name": "ipython",
    "version": 3
   },
   "file_extension": ".py",
   "mimetype": "text/x-python",
   "name": "python",
   "nbconvert_exporter": "python",
   "pygments_lexer": "ipython3",
   "version": "3.7.9"
  }
 },
 "nbformat": 4,
 "nbformat_minor": 4
}
