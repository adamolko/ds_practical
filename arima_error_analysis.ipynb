{
 "cells": [
  {
   "cell_type": "code",
   "execution_count": 2,
   "metadata": {},
   "outputs": [],
   "source": [
    "import numpy as np\n",
    "import pandas as pd\n",
    "import csv\n",
    "import os\n",
    "import re"
   ]
  },
  {
   "cell_type": "code",
   "execution_count": 3,
   "metadata": {},
   "outputs": [],
   "source": [
    "list_of_names = [\"linear1_abrupt\", \"linear2_abrupt\", \"linear3_abrupt\", \n",
    "                 \"nonlinear1_abrupt\", \"nonlinear2_abrupt\", \"nonlinear3_abrupt\"]"
   ]
  },
  {
   "cell_type": "code",
   "execution_count": 21,
   "metadata": {},
   "outputs": [
    {
     "name": "stdout",
     "output_type": "stream",
     "text": [
      "{'linear1_abrupt': [0.03934726468233588, 0.06409745799604269, 0.14183307058305666, 0.020063380707506143, 0.03798081904704861, 0.01767615981540237], 'linear2_abrupt': [0.10629366506683627, 0.024006020201246158, 0.01883287169454635, 0.034768545767066575, 0.013623586799328048, 0.07663215353318635], 'linear3_abrupt': [0.1561899692145358, 0.10435948988499391, 0.1603770167479514, 0.18311996866003563, 0.1430956222250299, 0.022506103593867257], 'nonlinear1_abrupt': [0.6287319255074302, 0.6386804972552272, 0.6929636803325688, 0.6410811720931403, 0.5873765592114085, 0.6409295181579021], 'nonlinear2_abrupt': [0.19001746005864623, 0.020274592690701167, 0.0319543579754881, 0.058130962655035145, 0.33446470917899623, 0.02896084539800991], 'nonlinear3_abrupt': [0.2198060135054393, 0.3093400134349729, 0.3196863067404481, 0.2801113133751157, 0.3256592963422461, 0.3034291470049401]}\n"
     ]
    }
   ],
   "source": [
    "global_errors = {}\n",
    "# initialize error dictionary\n",
    "for name in list_of_names:\n",
    "    global_errors[name] = []\n",
    "    \n",
    "for i in range(0,6):\n",
    "    file_path = \"forecasting_results/arima/errors/error\"+str(i)+\".txt\"\n",
    "    # read all the files related to particular type of time series\n",
    "    with open(file_path, 'r') as f:\n",
    "        for line in f.readlines():\n",
    "            result = line.split(\",\")\n",
    "            global_errors[result[0]].append(float(result[1].strip(\"\\n\")))\n",
    "print(global_errors)\n",
    "#for every algorithm, save the mean errors\n",
    "dict_path = \"forecasting_results/arima/errors/mean_errors.txt\"\n",
    "with open(dict_path, 'w') as file:\n",
    "    for key in global_errors.keys():\n",
    "        error = round(sum(global_errors[key])/6,4)\n",
    "        file.write(\"{},{}\\n\".format(key, error))"
   ]
  },
  {
   "cell_type": "code",
   "execution_count": null,
   "metadata": {},
   "outputs": [],
   "source": []
  }
 ],
 "metadata": {
  "kernelspec": {
   "display_name": "Python 3",
   "language": "python",
   "name": "python3"
  },
  "language_info": {
   "codemirror_mode": {
    "name": "ipython",
    "version": 3
   },
   "file_extension": ".py",
   "mimetype": "text/x-python",
   "name": "python",
   "nbconvert_exporter": "python",
   "pygments_lexer": "ipython3",
   "version": "3.8.5"
  }
 },
 "nbformat": 4,
 "nbformat_minor": 4
}
