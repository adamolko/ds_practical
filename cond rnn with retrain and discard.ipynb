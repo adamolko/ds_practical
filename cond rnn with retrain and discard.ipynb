{
 "cells": [
  {
   "cell_type": "markdown",
   "metadata": {},
   "source": [
    "This code uses Recurrent Neural Network with Long-Short-Term Memory units, which takes lagged values as input.<br>\n",
    "Additionally, we pass the **concept number** as a condition. Not dummy encoding because we don't know the total number of concepts in advance.<br>\n",
    "The model is **retrained** on **all available data** until there have been enough (>20) observations with new concept. Then we discard the old data and keep only observations from new concept. <br>\n",
    "For each new test point, we first perform the breakpoint detection and only then pass it to the algorithm for prediction."
   ]
  },
  {
   "cell_type": "code",
   "execution_count": 1,
   "metadata": {},
   "outputs": [],
   "source": [
    "import numpy as np\n",
    "import pandas as pd\n",
    "from datetime import datetime\n",
    "import matplotlib.pyplot as plt\n",
    "from sklearn.preprocessing import MinMaxScaler\n",
    "from keras.models import Sequential, Model\n",
    "from keras.layers import Dense, LSTM, Dropout, Input\n",
    "import functions\n",
    "import time\n",
    "import sys\n",
    "import tensorflow as tf\n",
    "from cond_rnn import ConditionalRNN\n",
    "import os\n",
    "os.environ['TF_CPP_MIN_LOG_LEVEL'] = '2' "
   ]
  },
  {
   "cell_type": "markdown",
   "metadata": {},
   "source": [
    "function for calculating *Symmetric Mean Absolute Percentage Error*."
   ]
  },
  {
   "cell_type": "code",
   "execution_count": 2,
   "metadata": {},
   "outputs": [],
   "source": [
    "def smape(predictions, actual):\n",
    "    difference = np.abs(predictions-actual)\n",
    "    summation = np.abs(actual)+np.abs(predictions)\n",
    "    error = np.mean(difference/summation)\n",
    "    return error"
   ]
  },
  {
   "cell_type": "markdown",
   "metadata": {},
   "source": [
    "Since now we can't use *ada_preprocessing()* to extract lagged values and concept, because it can potentially mess up breakpoint detection, we need separate function for this."
   ]
  },
  {
   "cell_type": "code",
   "execution_count": 3,
   "metadata": {},
   "outputs": [],
   "source": [
    "def manual_preprocessing(values, pattern):\n",
    "    #receives the list of values up until and including the test point\n",
    "    \n",
    "    columns = list(pattern.columns)\n",
    "    data = [values[-1], values[-2], values[-3], values[-4], values[-5], values[-6], pattern.loc[:,\"concept\"]]\n",
    "    \n",
    "    df = pd.DataFrame(columns=columns, data=[data])\n",
    "    return df"
   ]
  },
  {
   "cell_type": "markdown",
   "metadata": {},
   "source": [
    "Before using the model, some input preprocessing is due."
   ]
  },
  {
   "cell_type": "code",
   "execution_count": 4,
   "metadata": {},
   "outputs": [],
   "source": [
    "def forecast_preprocessing(train, test):\n",
    "    train_X, train_y = train.iloc[:,1:], train.iloc[:,0]\n",
    "    test_X, test_y = test.iloc[:,1:], test.iloc[:,0]\n",
    "    \n",
    "    #separate both train and test sets into inputs and auxiliary variables\n",
    "    train_X_input = train_X.loc[:,\"t-1\":\"t-5\"]\n",
    "    train_X_aux = train_X.loc[:,\"concept\"]\n",
    "    test_X_input = test_X.loc[:,\"t-1\":\"t-5\"]\n",
    "    test_X_aux = test_X.loc[:,\"concept\"]\n",
    "    \n",
    "    #now also need to reshape X_input and X_aux\n",
    "    X_arrays = np.asarray(train_X_input)\n",
    "    train_X_input = np.hstack(X_arrays).reshape(train_X_input.shape[0], 1, train_X_input.shape[1])\n",
    "\n",
    "    X_arrays = np.asarray(train_X_aux)\n",
    "    train_X_aux = np.hstack(X_arrays).reshape(train_X_aux.shape[0], 1)\n",
    "    \n",
    "    #need to do the same for test set\n",
    "    X_arrays = np.asarray(test_X_input)\n",
    "    test_X_input = np.hstack(X_arrays).reshape(test_X_input.shape[0], 1, test_X_input.shape[1])\n",
    "\n",
    "    X_arrays = np.asarray(test_X_aux)\n",
    "    test_X_aux = np.hstack(X_arrays).reshape(test_X_aux.shape[0], 1)\n",
    "    \n",
    "    return train_X_input, train_X_aux, test_X_input, test_X_aux, train_y, test_y"
   ]
  },
  {
   "cell_type": "markdown",
   "metadata": {},
   "source": [
    "*ConditionalRNN(units=NUM_CELLS, cell='LSTM')([inputs, cond])*\n",
    "\n",
    "The conditional RNN expects those parameters:\n",
    "\n",
    "*units*: int, The number of units in the RNN Cell. <br>\n",
    "*cell*: string, cell class or object (pre-instantiated). In the case of string, 'GRU', 'LSTM' and 'RNN' are supported.<br>\n",
    "*inputs*: 3-D Tensor with shape [batch_size, timesteps, input_dim].<br>\n",
    "*cond*: 2-D Tensor or list of tensors with shape [batch_size, cond_dim]. In the case of a list, the tensors can have a different cond_dim.<br>\n",
    "*\\*args, \\**kwargs*: Any parameters of the tf.keras.layers.RNN class, such as return_sequences, return_state, stateful, unroll..."
   ]
  },
  {
   "cell_type": "code",
   "execution_count": 5,
   "metadata": {},
   "outputs": [],
   "source": [
    "def fit_cond_rnn(X_input, X_aux, train_y):\n",
    "    inputs = Input(shape=(X_input.shape[1], X_input.shape[2]), dtype = tf.float32)\n",
    "    cond = Input(shape = (X_aux.shape[1]), dtype = tf.float32)\n",
    "    \n",
    "    #building model steps\n",
    "    A = ConditionalRNN(4, cell='LSTM', dtype = tf.float32, return_sequences = True)([inputs, cond])\n",
    "    out = Dense(1)(A)\n",
    "    model = Model(inputs=[inputs, cond], outputs=out)\n",
    "    model.compile(loss = \"mean_squared_error\", optimizer = \"adam\")\n",
    "    \n",
    "    #fitting the model\n",
    "    model.fit([X_input, X_aux], train_y, epochs = 50, batch_size = 1, verbose = 0, shuffle = False)\n",
    "    \n",
    "    return model"
   ]
  },
  {
   "cell_type": "markdown",
   "metadata": {},
   "source": [
    "**Data Preprocessing.**"
   ]
  },
  {
   "cell_type": "markdown",
   "metadata": {},
   "source": [
    "For numerical features, LSTMs expect data to be within the scale of the activation function.<br>\n",
    "Since default activation function for LSTMs is *tanh*, we need to scale our values to be between -1 and 1, which is done by using MinMaxScaler.<br>\n",
    "*The same min and max values should be used for both train and test sets to ensure the fairness of experiment.*"
   ]
  },
  {
   "cell_type": "markdown",
   "metadata": {},
   "source": [
    "Conditional RNN model expectes inputs to be numerical time series values.<br>\n",
    "The values that indicate the concept should be one-hot encoded and feed into the Conditional RNN as \"condition\"."
   ]
  },
  {
   "cell_type": "markdown",
   "metadata": {},
   "source": [
    "The following function does one-hot encoding, scaling."
   ]
  },
  {
   "cell_type": "code",
   "execution_count": 6,
   "metadata": {},
   "outputs": [],
   "source": [
    "def preprocessing(data):\n",
    "    #so far these columns didn't improve the analysis, so just drop them\n",
    "    data.drop([\"transition\", \"steps_to_bkp\", \"steps_since_bkp\"], axis = 1, inplace = True)\n",
    "    \n",
    "    #scaling\n",
    "    scaler_x = MinMaxScaler(feature_range = (0,1))\n",
    "    data.loc[:,\"t-1\":\"t-5\"] = scaler_x.fit_transform(data.loc[:,\"t-1\":\"t-5\"])\n",
    "    \n",
    "    #need separate scaler only for target\n",
    "    scaler_y = MinMaxScaler(feature_range = (0,1))\n",
    "    data.loc[:,\"t\"] = scaler_y.fit_transform(np.asarray(data.loc[:,\"t\"]).reshape([-1,1]))\n",
    "    \n",
    "    return data, scaler_x, scaler_y"
   ]
  },
  {
   "cell_type": "code",
   "execution_count": 7,
   "metadata": {},
   "outputs": [],
   "source": [
    "def is_enough(data):\n",
    "    new_concept = max(list(data[\"concept\"]))\n",
    "    number_of_points = sum(data[\"concept\"]==new_concept)\n",
    "    print(number_of_points)\n",
    "    return number_of_points"
   ]
  },
  {
   "cell_type": "code",
   "execution_count": 8,
   "metadata": {},
   "outputs": [],
   "source": [
    "#worst performing datasets from xgboost with retrain\n",
    "list_of_names = [\"nonlinear1_abrupt\", \"nonlinear1_inc\"]\n",
    "\n",
    "# list_of_names = [\"linear1_abrupt\", \"linear2_abrupt\", \"linear3_abrupt\",\n",
    "#                 \"nonlinear1_abrupt\", \"nonlinear2_abrupt\", \"nonlinear3_abrupt\"]"
   ]
  },
  {
   "cell_type": "code",
   "execution_count": 12,
   "metadata": {},
   "outputs": [
    {
     "name": "stdout",
     "output_type": "stream",
     "text": [
      "23\n",
      "Time wasted: 71.03m\n",
      "SMAPE: 0.7313\n"
     ]
    },
    {
     "ename": "ValueError",
     "evalue": "x and y can be no greater than 2-D, but have shapes (240,) and (240, 1, 1, 1)",
     "output_type": "error",
     "traceback": [
      "\u001b[0;31m---------------------------------------------------------------------------\u001b[0m",
      "\u001b[0;31mValueError\u001b[0m                                Traceback (most recent call last)",
      "\u001b[0;32m<ipython-input-12-4151ef9210aa>\u001b[0m in \u001b[0;36m<module>\u001b[0;34m\u001b[0m\n\u001b[1;32m     80\u001b[0m     \u001b[0mprint\u001b[0m\u001b[0;34m(\u001b[0m\u001b[0;34m\"SMAPE: {:.4f}\"\u001b[0m\u001b[0;34m.\u001b[0m\u001b[0mformat\u001b[0m\u001b[0;34m(\u001b[0m\u001b[0merror\u001b[0m\u001b[0;34m)\u001b[0m\u001b[0;34m)\u001b[0m\u001b[0;34m\u001b[0m\u001b[0;34m\u001b[0m\u001b[0m\n\u001b[1;32m     81\u001b[0m     \u001b[0mplt\u001b[0m\u001b[0;34m.\u001b[0m\u001b[0mplot\u001b[0m\u001b[0;34m(\u001b[0m\u001b[0mtest\u001b[0m\u001b[0;34m,\u001b[0m \u001b[0mlabel\u001b[0m \u001b[0;34m=\u001b[0m \u001b[0;34m\"Expected\"\u001b[0m\u001b[0;34m,\u001b[0m \u001b[0mcolor\u001b[0m \u001b[0;34m=\u001b[0m \u001b[0;34m\"black\"\u001b[0m\u001b[0;34m)\u001b[0m\u001b[0;34m\u001b[0m\u001b[0;34m\u001b[0m\u001b[0m\n\u001b[0;32m---> 82\u001b[0;31m     \u001b[0mplt\u001b[0m\u001b[0;34m.\u001b[0m\u001b[0mplot\u001b[0m\u001b[0;34m(\u001b[0m\u001b[0mpredictions\u001b[0m\u001b[0;34m,\u001b[0m \u001b[0mlabel\u001b[0m \u001b[0;34m=\u001b[0m \u001b[0;34m\"Predicted\"\u001b[0m\u001b[0;34m,\u001b[0m \u001b[0mcolor\u001b[0m \u001b[0;34m=\u001b[0m \u001b[0;34m\"red\"\u001b[0m\u001b[0;34m)\u001b[0m\u001b[0;34m\u001b[0m\u001b[0;34m\u001b[0m\u001b[0m\n\u001b[0m\u001b[1;32m     83\u001b[0m     \u001b[0mplt\u001b[0m\u001b[0;34m.\u001b[0m\u001b[0mlegend\u001b[0m\u001b[0;34m(\u001b[0m\u001b[0;34m)\u001b[0m\u001b[0;34m\u001b[0m\u001b[0;34m\u001b[0m\u001b[0m\n\u001b[1;32m     84\u001b[0m     \u001b[0mplt\u001b[0m\u001b[0;34m.\u001b[0m\u001b[0mtitle\u001b[0m\u001b[0;34m(\u001b[0m\u001b[0;34m\"{} without concept\"\u001b[0m\u001b[0;34m.\u001b[0m\u001b[0mformat\u001b[0m\u001b[0;34m(\u001b[0m\u001b[0mname\u001b[0m\u001b[0;34m)\u001b[0m\u001b[0;34m)\u001b[0m\u001b[0;34m\u001b[0m\u001b[0;34m\u001b[0m\u001b[0m\n",
      "\u001b[0;32m~/anaconda3/envs/practical/lib/python3.8/site-packages/matplotlib/pyplot.py\u001b[0m in \u001b[0;36mplot\u001b[0;34m(scalex, scaley, data, *args, **kwargs)\u001b[0m\n\u001b[1;32m   2838\u001b[0m \u001b[0;34m@\u001b[0m\u001b[0m_copy_docstring_and_deprecators\u001b[0m\u001b[0;34m(\u001b[0m\u001b[0mAxes\u001b[0m\u001b[0;34m.\u001b[0m\u001b[0mplot\u001b[0m\u001b[0;34m)\u001b[0m\u001b[0;34m\u001b[0m\u001b[0;34m\u001b[0m\u001b[0m\n\u001b[1;32m   2839\u001b[0m \u001b[0;32mdef\u001b[0m \u001b[0mplot\u001b[0m\u001b[0;34m(\u001b[0m\u001b[0;34m*\u001b[0m\u001b[0margs\u001b[0m\u001b[0;34m,\u001b[0m \u001b[0mscalex\u001b[0m\u001b[0;34m=\u001b[0m\u001b[0;32mTrue\u001b[0m\u001b[0;34m,\u001b[0m \u001b[0mscaley\u001b[0m\u001b[0;34m=\u001b[0m\u001b[0;32mTrue\u001b[0m\u001b[0;34m,\u001b[0m \u001b[0mdata\u001b[0m\u001b[0;34m=\u001b[0m\u001b[0;32mNone\u001b[0m\u001b[0;34m,\u001b[0m \u001b[0;34m**\u001b[0m\u001b[0mkwargs\u001b[0m\u001b[0;34m)\u001b[0m\u001b[0;34m:\u001b[0m\u001b[0;34m\u001b[0m\u001b[0;34m\u001b[0m\u001b[0m\n\u001b[0;32m-> 2840\u001b[0;31m     return gca().plot(\n\u001b[0m\u001b[1;32m   2841\u001b[0m         \u001b[0;34m*\u001b[0m\u001b[0margs\u001b[0m\u001b[0;34m,\u001b[0m \u001b[0mscalex\u001b[0m\u001b[0;34m=\u001b[0m\u001b[0mscalex\u001b[0m\u001b[0;34m,\u001b[0m \u001b[0mscaley\u001b[0m\u001b[0;34m=\u001b[0m\u001b[0mscaley\u001b[0m\u001b[0;34m,\u001b[0m\u001b[0;34m\u001b[0m\u001b[0;34m\u001b[0m\u001b[0m\n\u001b[1;32m   2842\u001b[0m         **({\"data\": data} if data is not None else {}), **kwargs)\n",
      "\u001b[0;32m~/anaconda3/envs/practical/lib/python3.8/site-packages/matplotlib/axes/_axes.py\u001b[0m in \u001b[0;36mplot\u001b[0;34m(self, scalex, scaley, data, *args, **kwargs)\u001b[0m\n\u001b[1;32m   1741\u001b[0m         \"\"\"\n\u001b[1;32m   1742\u001b[0m         \u001b[0mkwargs\u001b[0m \u001b[0;34m=\u001b[0m \u001b[0mcbook\u001b[0m\u001b[0;34m.\u001b[0m\u001b[0mnormalize_kwargs\u001b[0m\u001b[0;34m(\u001b[0m\u001b[0mkwargs\u001b[0m\u001b[0;34m,\u001b[0m \u001b[0mmlines\u001b[0m\u001b[0;34m.\u001b[0m\u001b[0mLine2D\u001b[0m\u001b[0;34m)\u001b[0m\u001b[0;34m\u001b[0m\u001b[0;34m\u001b[0m\u001b[0m\n\u001b[0;32m-> 1743\u001b[0;31m         \u001b[0mlines\u001b[0m \u001b[0;34m=\u001b[0m \u001b[0;34m[\u001b[0m\u001b[0;34m*\u001b[0m\u001b[0mself\u001b[0m\u001b[0;34m.\u001b[0m\u001b[0m_get_lines\u001b[0m\u001b[0;34m(\u001b[0m\u001b[0;34m*\u001b[0m\u001b[0margs\u001b[0m\u001b[0;34m,\u001b[0m \u001b[0mdata\u001b[0m\u001b[0;34m=\u001b[0m\u001b[0mdata\u001b[0m\u001b[0;34m,\u001b[0m \u001b[0;34m**\u001b[0m\u001b[0mkwargs\u001b[0m\u001b[0;34m)\u001b[0m\u001b[0;34m]\u001b[0m\u001b[0;34m\u001b[0m\u001b[0;34m\u001b[0m\u001b[0m\n\u001b[0m\u001b[1;32m   1744\u001b[0m         \u001b[0;32mfor\u001b[0m \u001b[0mline\u001b[0m \u001b[0;32min\u001b[0m \u001b[0mlines\u001b[0m\u001b[0;34m:\u001b[0m\u001b[0;34m\u001b[0m\u001b[0;34m\u001b[0m\u001b[0m\n\u001b[1;32m   1745\u001b[0m             \u001b[0mself\u001b[0m\u001b[0;34m.\u001b[0m\u001b[0madd_line\u001b[0m\u001b[0;34m(\u001b[0m\u001b[0mline\u001b[0m\u001b[0;34m)\u001b[0m\u001b[0;34m\u001b[0m\u001b[0;34m\u001b[0m\u001b[0m\n",
      "\u001b[0;32m~/anaconda3/envs/practical/lib/python3.8/site-packages/matplotlib/axes/_base.py\u001b[0m in \u001b[0;36m__call__\u001b[0;34m(self, data, *args, **kwargs)\u001b[0m\n\u001b[1;32m    271\u001b[0m                 \u001b[0mthis\u001b[0m \u001b[0;34m+=\u001b[0m \u001b[0margs\u001b[0m\u001b[0;34m[\u001b[0m\u001b[0;36m0\u001b[0m\u001b[0;34m]\u001b[0m\u001b[0;34m,\u001b[0m\u001b[0;34m\u001b[0m\u001b[0;34m\u001b[0m\u001b[0m\n\u001b[1;32m    272\u001b[0m                 \u001b[0margs\u001b[0m \u001b[0;34m=\u001b[0m \u001b[0margs\u001b[0m\u001b[0;34m[\u001b[0m\u001b[0;36m1\u001b[0m\u001b[0;34m:\u001b[0m\u001b[0;34m]\u001b[0m\u001b[0;34m\u001b[0m\u001b[0;34m\u001b[0m\u001b[0m\n\u001b[0;32m--> 273\u001b[0;31m             \u001b[0;32myield\u001b[0m \u001b[0;32mfrom\u001b[0m \u001b[0mself\u001b[0m\u001b[0;34m.\u001b[0m\u001b[0m_plot_args\u001b[0m\u001b[0;34m(\u001b[0m\u001b[0mthis\u001b[0m\u001b[0;34m,\u001b[0m \u001b[0mkwargs\u001b[0m\u001b[0;34m)\u001b[0m\u001b[0;34m\u001b[0m\u001b[0;34m\u001b[0m\u001b[0m\n\u001b[0m\u001b[1;32m    274\u001b[0m \u001b[0;34m\u001b[0m\u001b[0m\n\u001b[1;32m    275\u001b[0m     \u001b[0;32mdef\u001b[0m \u001b[0mget_next_color\u001b[0m\u001b[0;34m(\u001b[0m\u001b[0mself\u001b[0m\u001b[0;34m)\u001b[0m\u001b[0;34m:\u001b[0m\u001b[0;34m\u001b[0m\u001b[0;34m\u001b[0m\u001b[0m\n",
      "\u001b[0;32m~/anaconda3/envs/practical/lib/python3.8/site-packages/matplotlib/axes/_base.py\u001b[0m in \u001b[0;36m_plot_args\u001b[0;34m(self, tup, kwargs)\u001b[0m\n\u001b[1;32m    400\u001b[0m                              f\"have shapes {x.shape} and {y.shape}\")\n\u001b[1;32m    401\u001b[0m         \u001b[0;32mif\u001b[0m \u001b[0mx\u001b[0m\u001b[0;34m.\u001b[0m\u001b[0mndim\u001b[0m \u001b[0;34m>\u001b[0m \u001b[0;36m2\u001b[0m \u001b[0;32mor\u001b[0m \u001b[0my\u001b[0m\u001b[0;34m.\u001b[0m\u001b[0mndim\u001b[0m \u001b[0;34m>\u001b[0m \u001b[0;36m2\u001b[0m\u001b[0;34m:\u001b[0m\u001b[0;34m\u001b[0m\u001b[0;34m\u001b[0m\u001b[0m\n\u001b[0;32m--> 402\u001b[0;31m             raise ValueError(f\"x and y can be no greater than 2-D, but have \"\n\u001b[0m\u001b[1;32m    403\u001b[0m                              f\"shapes {x.shape} and {y.shape}\")\n\u001b[1;32m    404\u001b[0m         \u001b[0;32mif\u001b[0m \u001b[0mx\u001b[0m\u001b[0;34m.\u001b[0m\u001b[0mndim\u001b[0m \u001b[0;34m==\u001b[0m \u001b[0;36m1\u001b[0m\u001b[0;34m:\u001b[0m\u001b[0;34m\u001b[0m\u001b[0;34m\u001b[0m\u001b[0m\n",
      "\u001b[0;31mValueError\u001b[0m: x and y can be no greater than 2-D, but have shapes (240,) and (240, 1, 1, 1)"
     ]
    },
    {
     "data": {
      "image/png": "[encoded data removed]",
      "text/plain": [
       "<Figure size 432x288 with 1 Axes>"
      ]
     },
     "metadata": {
      "needs_background": "light"
     },
     "output_type": "display_data"
    }
   ],
   "source": [
    "#dictionary to store the overall error\n",
    "smape_dict = {}\n",
    "\n",
    "for name in list_of_names:\n",
    "    start = time.perf_counter()\n",
    "    \n",
    "    #loading the data\n",
    "    file_path = \"data/\"+name+\"_series\"\n",
    "    data = pd.read_csv(file_path).iloc[:,0].to_list()\n",
    "    \n",
    "    #70/30 train/test split\n",
    "    split = int(0.7*len(data))\n",
    "    train, test = data[:split], data[split:]\n",
    "    \n",
    "    predictions = []\n",
    "    \n",
    "    #need to perform the first step outside of the loop,\n",
    "    #because we don't want to retrain our model at every step\n",
    "    \n",
    "    #get breakpoints for train set\n",
    "    history = functions.ada_preprocessing(train)\n",
    "    history.drop([\"transition\", \"steps_to_bkp\", \"steps_since_bkp\"], axis = 1, inplace = True)\n",
    "    \n",
    "    #note the number of concept dummies\n",
    "    num_of_concepts = max(list(history[\"concept\"]))\n",
    "    \n",
    "    #need placeholder just in case\n",
    "    model = None\n",
    "    \n",
    "    for i in range(0,len(test)):\n",
    "        #add new test observation to train series\n",
    "        train.append(test[i])\n",
    "        \n",
    "        #pass all the values available in series up to and including the new test point\n",
    "        test_row = manual_preprocessing(train, history.tail(1))\n",
    "        \n",
    "        #change train and test into form appropriate for CondRNN\n",
    "        train_X_input, train_X_aux, test_X_input, test_X_aux, train_y, test_y = forecast_preprocessing(history, test_row)\n",
    "        \n",
    "        #train the model only at the first step\n",
    "        if i == 0:\n",
    "            model = fit_cond_rnn(train_X_input, train_X_aux, train_y)\n",
    "        \n",
    "        prediction = model.predict([test_X_input, test_X_aux])\n",
    "        predictions.append(prediction)\n",
    "        \n",
    "        #new dataframe with the predicted test observation already appended\n",
    "        history = functions.ada_preprocessing(train)\n",
    "        \n",
    "        history.drop([\"transition\", \"steps_to_bkp\", \"steps_since_bkp\"], axis = 1, inplace = True)\n",
    "        \n",
    "        #note the new number of concept dummies\n",
    "        new_num_of_concepts = max(list(history[\"concept\"]))\n",
    "        \n",
    "        #if number of concepts changed, check how many observations we have for the new concept\n",
    "        if new_num_of_concepts>num_of_concepts:\n",
    "            #if we have more than 20 points for new concept, keep them and drop the rest of the data\n",
    "            points = is_enough(history)\n",
    "            if points>=20:\n",
    "                model = fit_cond_rnn(train_X_input, train_X_aux, train_y)\n",
    "                num_of_concepts = new_num_of_concepts\n",
    "            #otherwise just keep using the same dataset\n",
    "            \n",
    "    end = time.perf_counter()\n",
    "    print(\"Time wasted: {:.2f}m\".format((end-start)/60))\n",
    "    \n",
    "#     predictions = scaler_y.inverse_transform(np.asarray(predictions).reshape([-1,1]))\n",
    "    error = smape(np.asarray(predictions), np.asarray(test))\n",
    "    smape_dict[name] = error\n",
    "    print(\"SMAPE: {:.4f}\".format(error))\n",
    "    plt.plot(test, label = \"Expected\", color = \"black\")\n",
    "    plt.plot(np.asarray(predictions).reshape([-1,1]), label = \"Predicted\", color = \"red\")\n",
    "    plt.legend()\n",
    "    plt.title(name)\n",
    "    plt.show()"
   ]
  },
  {
   "cell_type": "code",
   "execution_count": null,
   "metadata": {},
   "outputs": [],
   "source": []
  }
 ],
 "metadata": {
  "kernelspec": {
   "display_name": "Python 3",
   "language": "python",
   "name": "python3"
  },
  "language_info": {
   "codemirror_mode": {
    "name": "ipython",
    "version": 3
   },
   "file_extension": ".py",
   "mimetype": "text/x-python",
   "name": "python",
   "nbconvert_exporter": "python",
   "pygments_lexer": "ipython3",
   "version": "3.8.5"
  }
 },
 "nbformat": 4,
 "nbformat_minor": 4
}
